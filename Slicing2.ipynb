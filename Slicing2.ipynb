{
 "cells": [
  {
   "cell_type": "code",
   "execution_count": 16,
   "metadata": {},
   "outputs": [
    {
     "data": {
      "text/html": [
       "<div>\n",
       "<style scoped>\n",
       "    .dataframe tbody tr th:only-of-type {\n",
       "        vertical-align: middle;\n",
       "    }\n",
       "\n",
       "    .dataframe tbody tr th {\n",
       "        vertical-align: top;\n",
       "    }\n",
       "\n",
       "    .dataframe thead th {\n",
       "        text-align: right;\n",
       "    }\n",
       "</style>\n",
       "<table border=\"1\" class=\"dataframe\">\n",
       "  <thead>\n",
       "    <tr style=\"text-align: right;\">\n",
       "      <th></th>\n",
       "      <th>ID</th>\n",
       "      <th>Student ID</th>\n",
       "      <th>FirstName</th>\n",
       "      <th>LastName</th>\n",
       "      <th>Subject</th>\n",
       "      <th>Marks</th>\n",
       "      <th>Grade</th>\n",
       "    </tr>\n",
       "  </thead>\n",
       "  <tbody>\n",
       "    <tr>\n",
       "      <td>0</td>\n",
       "      <td>HC1</td>\n",
       "      <td>stu1</td>\n",
       "      <td>Ritika</td>\n",
       "      <td>Singh</td>\n",
       "      <td>Arts</td>\n",
       "      <td>92</td>\n",
       "      <td>A</td>\n",
       "    </tr>\n",
       "    <tr>\n",
       "      <td>1</td>\n",
       "      <td>HC2</td>\n",
       "      <td>stu1</td>\n",
       "      <td>Ritika</td>\n",
       "      <td>Singh</td>\n",
       "      <td>Math</td>\n",
       "      <td>96</td>\n",
       "      <td>A+</td>\n",
       "    </tr>\n",
       "    <tr>\n",
       "      <td>2</td>\n",
       "      <td>HC3</td>\n",
       "      <td>stu1</td>\n",
       "      <td>Ritika</td>\n",
       "      <td>Singh</td>\n",
       "      <td>Science</td>\n",
       "      <td>96</td>\n",
       "      <td>A+</td>\n",
       "    </tr>\n",
       "    <tr>\n",
       "      <td>3</td>\n",
       "      <td>HC4</td>\n",
       "      <td>stu1</td>\n",
       "      <td>Ritika</td>\n",
       "      <td>Singh</td>\n",
       "      <td>English</td>\n",
       "      <td>94</td>\n",
       "      <td>A</td>\n",
       "    </tr>\n",
       "    <tr>\n",
       "      <td>4</td>\n",
       "      <td>HC5</td>\n",
       "      <td>stu2</td>\n",
       "      <td>Yash</td>\n",
       "      <td>Agarwal</td>\n",
       "      <td>Arts</td>\n",
       "      <td>100</td>\n",
       "      <td>A+</td>\n",
       "    </tr>\n",
       "  </tbody>\n",
       "</table>\n",
       "</div>"
      ],
      "text/plain": [
       "    ID Student ID FirstName LastName  Subject  Marks Grade\n",
       "0  HC1       stu1    Ritika    Singh     Arts     92     A\n",
       "1  HC2       stu1    Ritika    Singh     Math     96    A+\n",
       "2  HC3       stu1    Ritika    Singh  Science     96    A+\n",
       "3  HC4       stu1    Ritika    Singh  English     94     A\n",
       "4  HC5       stu2      Yash  Agarwal     Arts    100    A+"
      ]
     },
     "execution_count": 16,
     "metadata": {},
     "output_type": "execute_result"
    }
   ],
   "source": [
    "# Reading the DataFrame\n",
    "import pandas as pd\n",
    "grades = pd.read_csv(\"School_Grades.csv\")\n",
    "\n",
    "grades.head()"
   ]
  },
  {
   "cell_type": "code",
   "execution_count": 20,
   "metadata": {},
   "outputs": [
    {
     "data": {
      "text/html": [
       "<div>\n",
       "<style scoped>\n",
       "    .dataframe tbody tr th:only-of-type {\n",
       "        vertical-align: middle;\n",
       "    }\n",
       "\n",
       "    .dataframe tbody tr th {\n",
       "        vertical-align: top;\n",
       "    }\n",
       "\n",
       "    .dataframe thead th {\n",
       "        text-align: right;\n",
       "    }\n",
       "</style>\n",
       "<table border=\"1\" class=\"dataframe\">\n",
       "  <thead>\n",
       "    <tr style=\"text-align: right;\">\n",
       "      <th></th>\n",
       "      <th>ID</th>\n",
       "      <th>Student ID</th>\n",
       "      <th>FirstName</th>\n",
       "      <th>LastName</th>\n",
       "      <th>Subject</th>\n",
       "      <th>Marks</th>\n",
       "      <th>Grade</th>\n",
       "    </tr>\n",
       "  </thead>\n",
       "  <tbody>\n",
       "    <tr>\n",
       "      <td>0</td>\n",
       "      <td>HC1</td>\n",
       "      <td>stu1</td>\n",
       "      <td>Ritika</td>\n",
       "      <td>Singh</td>\n",
       "      <td>Arts</td>\n",
       "      <td>92</td>\n",
       "      <td>A</td>\n",
       "    </tr>\n",
       "    <tr>\n",
       "      <td>1</td>\n",
       "      <td>HC2</td>\n",
       "      <td>stu1</td>\n",
       "      <td>Ritika</td>\n",
       "      <td>Singh</td>\n",
       "      <td>Math</td>\n",
       "      <td>96</td>\n",
       "      <td>A+</td>\n",
       "    </tr>\n",
       "    <tr>\n",
       "      <td>2</td>\n",
       "      <td>HC3</td>\n",
       "      <td>stu1</td>\n",
       "      <td>Ritika</td>\n",
       "      <td>Singh</td>\n",
       "      <td>Science</td>\n",
       "      <td>96</td>\n",
       "      <td>A+</td>\n",
       "    </tr>\n",
       "  </tbody>\n",
       "</table>\n",
       "</div>"
      ],
      "text/plain": [
       "    ID Student ID FirstName LastName  Subject  Marks Grade\n",
       "0  HC1       stu1    Ritika    Singh     Arts     92     A\n",
       "1  HC2       stu1    Ritika    Singh     Math     96    A+\n",
       "2  HC3       stu1    Ritika    Singh  Science     96    A+"
      ]
     },
     "execution_count": 20,
     "metadata": {},
     "output_type": "execute_result"
    }
   ],
   "source": [
    "# Selecting first three rows : Indexes start from 0 and the second index is exclusive\n",
    "grades[0:3]"
   ]
  },
  {
   "cell_type": "code",
   "execution_count": 24,
   "metadata": {},
   "outputs": [
    {
     "name": "stdout",
     "output_type": "stream",
     "text": [
      "    ID Student ID FirstName LastName Subject  Marks Grade\n",
      "0  HC1       stu1    Ritika    Singh    Arts     92     A\n"
     ]
    },
    {
     "data": {
      "text/html": [
       "<div>\n",
       "<style scoped>\n",
       "    .dataframe tbody tr th:only-of-type {\n",
       "        vertical-align: middle;\n",
       "    }\n",
       "\n",
       "    .dataframe tbody tr th {\n",
       "        vertical-align: top;\n",
       "    }\n",
       "\n",
       "    .dataframe thead th {\n",
       "        text-align: right;\n",
       "    }\n",
       "</style>\n",
       "<table border=\"1\" class=\"dataframe\">\n",
       "  <thead>\n",
       "    <tr style=\"text-align: right;\">\n",
       "      <th></th>\n",
       "      <th>ID</th>\n",
       "      <th>Student ID</th>\n",
       "      <th>FirstName</th>\n",
       "      <th>LastName</th>\n",
       "      <th>Subject</th>\n",
       "      <th>Marks</th>\n",
       "      <th>Grade</th>\n",
       "    </tr>\n",
       "  </thead>\n",
       "  <tbody>\n",
       "    <tr>\n",
       "      <td>1</td>\n",
       "      <td>HC2</td>\n",
       "      <td>stu1</td>\n",
       "      <td>Ritika</td>\n",
       "      <td>Singh</td>\n",
       "      <td>Math</td>\n",
       "      <td>96</td>\n",
       "      <td>A+</td>\n",
       "    </tr>\n",
       "  </tbody>\n",
       "</table>\n",
       "</div>"
      ],
      "text/plain": [
       "    ID Student ID FirstName LastName Subject  Marks Grade\n",
       "1  HC2       stu1    Ritika    Singh    Math     96    A+"
      ]
     },
     "execution_count": 24,
     "metadata": {},
     "output_type": "execute_result"
    }
   ],
   "source": [
    "# Selecting 2nd row : Indexes start from 0 and the second index is exclusive\n",
    "grades[1:2]"
   ]
  },
  {
   "cell_type": "code",
   "execution_count": 33,
   "metadata": {},
   "outputs": [],
   "source": [
    "# Taking a sample from grades data by selecting first five rows\n",
    "\n",
    "grades_sample = grades[0:5] "
   ]
  },
  {
   "cell_type": "code",
   "execution_count": 26,
   "metadata": {},
   "outputs": [
    {
     "data": {
      "text/plain": [
       "0    stu1\n",
       "1    stu1\n",
       "2    stu1\n",
       "3    stu1\n",
       "4    stu2\n",
       "Name: Student ID, dtype: object"
      ]
     },
     "execution_count": 26,
     "metadata": {},
     "output_type": "execute_result"
    }
   ],
   "source": [
    "# Selecting single column\n",
    "\n",
    "grades_sample['Student ID']"
   ]
  },
  {
   "cell_type": "code",
   "execution_count": 30,
   "metadata": {},
   "outputs": [
    {
     "data": {
      "text/html": [
       "<div>\n",
       "<style scoped>\n",
       "    .dataframe tbody tr th:only-of-type {\n",
       "        vertical-align: middle;\n",
       "    }\n",
       "\n",
       "    .dataframe tbody tr th {\n",
       "        vertical-align: top;\n",
       "    }\n",
       "\n",
       "    .dataframe thead th {\n",
       "        text-align: right;\n",
       "    }\n",
       "</style>\n",
       "<table border=\"1\" class=\"dataframe\">\n",
       "  <thead>\n",
       "    <tr style=\"text-align: right;\">\n",
       "      <th></th>\n",
       "      <th>Student ID</th>\n",
       "      <th>FirstName</th>\n",
       "    </tr>\n",
       "  </thead>\n",
       "  <tbody>\n",
       "    <tr>\n",
       "      <td>0</td>\n",
       "      <td>stu1</td>\n",
       "      <td>Ritika</td>\n",
       "    </tr>\n",
       "    <tr>\n",
       "      <td>1</td>\n",
       "      <td>stu1</td>\n",
       "      <td>Ritika</td>\n",
       "    </tr>\n",
       "    <tr>\n",
       "      <td>2</td>\n",
       "      <td>stu1</td>\n",
       "      <td>Ritika</td>\n",
       "    </tr>\n",
       "    <tr>\n",
       "      <td>3</td>\n",
       "      <td>stu1</td>\n",
       "      <td>Ritika</td>\n",
       "    </tr>\n",
       "    <tr>\n",
       "      <td>4</td>\n",
       "      <td>stu2</td>\n",
       "      <td>Yash</td>\n",
       "    </tr>\n",
       "  </tbody>\n",
       "</table>\n",
       "</div>"
      ],
      "text/plain": [
       "  Student ID FirstName\n",
       "0       stu1    Ritika\n",
       "1       stu1    Ritika\n",
       "2       stu1    Ritika\n",
       "3       stu1    Ritika\n",
       "4       stu2      Yash"
      ]
     },
     "execution_count": 30,
     "metadata": {},
     "output_type": "execute_result"
    }
   ],
   "source": [
    "# Selecting multiple columns\n",
    "\n",
    "grades_sample[['Student ID','FirstName']]"
   ]
  },
  {
   "cell_type": "code",
   "execution_count": 32,
   "metadata": {},
   "outputs": [
    {
     "data": {
      "text/html": [
       "<div>\n",
       "<style scoped>\n",
       "    .dataframe tbody tr th:only-of-type {\n",
       "        vertical-align: middle;\n",
       "    }\n",
       "\n",
       "    .dataframe tbody tr th {\n",
       "        vertical-align: top;\n",
       "    }\n",
       "\n",
       "    .dataframe thead th {\n",
       "        text-align: right;\n",
       "    }\n",
       "</style>\n",
       "<table border=\"1\" class=\"dataframe\">\n",
       "  <thead>\n",
       "    <tr style=\"text-align: right;\">\n",
       "      <th></th>\n",
       "      <th>ID</th>\n",
       "      <th>Student ID</th>\n",
       "      <th>FirstName</th>\n",
       "      <th>LastName</th>\n",
       "      <th>Subject</th>\n",
       "      <th>Marks</th>\n",
       "      <th>Grade</th>\n",
       "    </tr>\n",
       "  </thead>\n",
       "  <tbody>\n",
       "    <tr>\n",
       "      <td>0</td>\n",
       "      <td>HC1</td>\n",
       "      <td>stu1</td>\n",
       "      <td>Ritika</td>\n",
       "      <td>Singh</td>\n",
       "      <td>Arts</td>\n",
       "      <td>92</td>\n",
       "      <td>A</td>\n",
       "    </tr>\n",
       "    <tr>\n",
       "      <td>1</td>\n",
       "      <td>HC2</td>\n",
       "      <td>stu1</td>\n",
       "      <td>Ritika</td>\n",
       "      <td>Singh</td>\n",
       "      <td>Math</td>\n",
       "      <td>96</td>\n",
       "      <td>A+</td>\n",
       "    </tr>\n",
       "    <tr>\n",
       "      <td>2</td>\n",
       "      <td>HC3</td>\n",
       "      <td>stu1</td>\n",
       "      <td>Ritika</td>\n",
       "      <td>Singh</td>\n",
       "      <td>Science</td>\n",
       "      <td>96</td>\n",
       "      <td>A+</td>\n",
       "    </tr>\n",
       "    <tr>\n",
       "      <td>3</td>\n",
       "      <td>HC4</td>\n",
       "      <td>stu1</td>\n",
       "      <td>Ritika</td>\n",
       "      <td>Singh</td>\n",
       "      <td>English</td>\n",
       "      <td>94</td>\n",
       "      <td>A</td>\n",
       "    </tr>\n",
       "  </tbody>\n",
       "</table>\n",
       "</div>"
      ],
      "text/plain": [
       "    ID Student ID FirstName LastName  Subject  Marks Grade\n",
       "0  HC1       stu1    Ritika    Singh     Arts     92     A\n",
       "1  HC2       stu1    Ritika    Singh     Math     96    A+\n",
       "2  HC3       stu1    Ritika    Singh  Science     96    A+\n",
       "3  HC4       stu1    Ritika    Singh  English     94     A"
      ]
     },
     "execution_count": 32,
     "metadata": {},
     "output_type": "execute_result"
    }
   ],
   "source": [
    "# Can filter based on certain conditions on culumns\n",
    "\n",
    "grades_sample[grades_sample['FirstName']=='Ritika']"
   ]
  }
 ],
 "metadata": {
  "kernelspec": {
   "display_name": "Python 3",
   "language": "python",
   "name": "python3"
  },
  "language_info": {
   "codemirror_mode": {
    "name": "ipython",
    "version": 3
   },
   "file_extension": ".py",
   "mimetype": "text/x-python",
   "name": "python",
   "nbconvert_exporter": "python",
   "pygments_lexer": "ipython3",
   "version": "3.7.4"
  }
 },
 "nbformat": 4,
 "nbformat_minor": 2
}
